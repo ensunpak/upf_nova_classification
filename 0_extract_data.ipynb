{
 "cells": [
  {
   "cell_type": "markdown",
   "metadata": {},
   "source": [
    "Link to world.openfoodfacts.org data dump\n",
    "\n",
    "https://static.openfoodfacts.org/data/en.openfoodfacts.org.products.csv"
   ]
  },
  {
   "cell_type": "code",
   "execution_count": 1,
   "metadata": {},
   "outputs": [],
   "source": [
    "# Import packages\n",
    "import pandas as pd\n",
    "import os\n",
    "import pickle"
   ]
  },
  {
   "cell_type": "code",
   "execution_count": 2,
   "metadata": {},
   "outputs": [],
   "source": [
    "# Keep only these columns from the raw dataset\n",
    "cols = [\"created_datetime\", \"product_name\", \"generic_name\", \"quantity\", \"brands\", \"categories_en\", \"origins_en\", \"countries_en\",\n",
    "        \"ingredients_tags\", \"ingredients_analysis_tags\", \"no_nutrition_data\", \"additives_n\", \"additives\", \"additives_tags\", \"additives_en\",\n",
    "        \"nutriscore_score\", \"nutriscore_grade\", \"nova_group\", \"pnns_groups_1\", \"pnns_groups_2\", \"nutrient_levels_tags\", \"completeness\", \"main_category\",\n",
    "        \"main_category_en\", \"energy-kj_100g\", \"energy-kcal_100g\", \"energy_100g\", \"energy-from-fat_100g\", \"fat_100g\", \"saturated-fat_100g\", \"butyric-acid_100g\",\n",
    "        \"caproic-acid_100g\", \"caprylic-acid_100g\", \"capric-acid_100g\", \"lauric-acid_100g\", \"myristic-acid_100g\", \"palmitic-acid_100g\", \"stearic-acid_100g\",\n",
    "        \"arachidic-acid_100g\", \"behenic-acid_100g\", \"lignoceric-acid_100g\", \"cerotic-acid_100g\", \"montanic-acid_100g\", \"melissic-acid_100g\", \"unsaturated-fat_100g\", \"monounsaturated-fat_100g\",\n",
    "        \"polyunsaturated-fat_100g\", \"omega-3-fat_100g\", \"alpha-linolenic-acid_100g\", \"eicosapentaenoic-acid_100g\", \"docosahexaenoic-acid_100g\", \"omega-6-fat_100g\", \n",
    "        \"linoleic-acid_100g\", \"arachidonic-acid_100g\", \"gamma-linolenic-acid_100g\", \"dihomo-gamma-linolenic-acid_100g\", \"omega-9-fat_100g\", \n",
    "        \"oleic-acid_100g\", \"elaidic-acid_100g\", \"gondoic-acid_100g\", \"mead-acid_100g\", \"erucic-acid_100g\", \"nervonic-acid_100g\", \"trans-fat_100g\", \n",
    "        \"cholesterol_100g\", \"carbohydrates_100g\", \"sugars_100g\", \"added-sugars_100g\", \"sucrose_100g\", \"glucose_100g\", \"fructose_100g\", \"lactose_100g\", \n",
    "        \"maltose_100g\", \"maltodextrins_100g\", \"starch_100g\", \"polyols_100g\", \"erythritol_100g\", \"fiber_100g\", \"soluble-fiber_100g\", \"insoluble-fiber_100g\", \n",
    "        \"proteins_100g\", \"casein_100g\", \"serum-proteins_100g\", \"nucleotides_100g\", \"salt_100g\", \"added-salt_100g\", \"sodium_100g\", \"alcohol_100g\", \n",
    "        \"vitamin-a_100g\", \"beta-carotene_100g\", \"vitamin-d_100g\", \"vitamin-e_100g\", \"vitamin-k_100g\", \"vitamin-c_100g\", \"vitamin-b1_100g\", \"vitamin-b2_100g\", \n",
    "        \"vitamin-pp_100g\", \"vitamin-b6_100g\", \"vitamin-b9_100g\", \"folates_100g\", \"vitamin-b12_100g\", \"biotin_100g\", \"pantothenic-acid_100g\", \"silica_100g\", \n",
    "        \"bicarbonate_100g\", \"potassium_100g\", \"chloride_100g\", \"calcium_100g\", \"phosphorus_100g\", \"iron_100g\", \"magnesium_100g\", \"zinc_100g\", \"copper_100g\", \n",
    "        \"manganese_100g\", \"fluoride_100g\", \"selenium_100g\", \"chromium_100g\", \"molybdenum_100g\", \"iodine_100g\", \"caffeine_100g\", \"taurine_100g\", \"ph_100g\", \n",
    "        \"fruits-vegetables-nuts_100g\", \"fruits-vegetables-nuts-dried_100g\", \"fruits-vegetables-nuts-estimate_100g\", \n",
    "        \"fruits-vegetables-nuts-estimate-from-ingredients_100g\", \"collagen-meat-protein-ratio_100g\", \"cocoa_100g\", \"chlorophyl_100g\", \n",
    "        \"carbon-footprint_100g\", \"carbon-footprint-from-meat-or-fish_100g\", \"nutrition-score-fr_100g\", \"nutrition-score-uk_100g\", \"glycemic-index_100g\", \n",
    "        \"water-hardness_100g\", \"choline_100g\", \"phylloquinone_100g\", \"beta-glucan_100g\", \"inositol_100g\", \"carnitine_100g\", \"sulphate_100g\", \"nitrate_100g\"]"
   ]
  },
  {
   "cell_type": "code",
   "execution_count": 3,
   "metadata": {},
   "outputs": [],
   "source": [
    "# Load header\n",
    "header = pd.read_csv(\"data/header.csv\", sep=\"\\t\")\n",
    "header = list(header)"
   ]
  },
  {
   "cell_type": "code",
   "execution_count": 4,
   "metadata": {},
   "outputs": [],
   "source": [
    "# Remove the last file in the list (it's the header data)\n",
    "data_files = sorted(os.listdir(\"data\"))[:-1]"
   ]
  },
  {
   "cell_type": "code",
   "execution_count": 5,
   "metadata": {},
   "outputs": [
    {
     "name": "stdout",
     "output_type": "stream",
     "text": [
      "data_aa\n",
      "data_ab\n",
      "data_ac\n",
      "data_ad\n",
      "data_ae\n",
      "data_af\n",
      "data_ag\n",
      "data_ah\n",
      "data_ai\n",
      "data_aj\n",
      "data_ak\n",
      "data_al\n",
      "data_am\n",
      "data_an\n",
      "data_ao\n"
     ]
    }
   ],
   "source": [
    "data = pd.DataFrame()\n",
    "\n",
    "# Load each chunk of the dataset and process, then append into one dataframe\n",
    "for f in data_files:\n",
    "    print(f)\n",
    "    raw_data = []\n",
    "    with open(os.path.join(\"data\", f), \"r\") as d:\n",
    "        for lines in d:\n",
    "            raw_data.append(lines.strip(\"\\n\").split(\"\\t\"))\n",
    "    d.close()\n",
    "    raw_data = pd.DataFrame(raw_data, columns=header)\n",
    "    raw_data = raw_data[cols]\n",
    "    if f == \"data_aa\":\n",
    "        raw_data = raw_data.iloc[1:, :]\n",
    "\n",
    "    data = pd.concat([data, raw_data], axis=0)"
   ]
  },
  {
   "cell_type": "code",
   "execution_count": 7,
   "metadata": {},
   "outputs": [],
   "source": [
    "# Save the dataframe into a pickle file\n",
    "with open(\"processed_data.pkl\", \"wb\") as f:\n",
    "    pickle.dump(data, f)\n",
    "f.close()"
   ]
  }
 ],
 "metadata": {
  "kernelspec": {
   "display_name": "base",
   "language": "python",
   "name": "python3"
  },
  "language_info": {
   "codemirror_mode": {
    "name": "ipython",
    "version": 3
   },
   "file_extension": ".py",
   "mimetype": "text/x-python",
   "name": "python",
   "nbconvert_exporter": "python",
   "pygments_lexer": "ipython3",
   "version": "3.9.12"
  },
  "orig_nbformat": 4
 },
 "nbformat": 4,
 "nbformat_minor": 2
}
